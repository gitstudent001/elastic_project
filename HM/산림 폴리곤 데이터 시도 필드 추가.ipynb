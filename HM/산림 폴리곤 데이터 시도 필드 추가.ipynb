{
 "cells": [
  {
   "cell_type": "code",
   "execution_count": 1,
   "id": "d0074a65-fd61-4178-8e29-b809339dcabf",
   "metadata": {},
   "outputs": [],
   "source": [
    "from elasticsearch import Elasticsearch\n",
    "import warnings\n",
    "warnings.filterwarnings('ignore')"
   ]
  },
  {
   "cell_type": "code",
   "execution_count": 2,
   "id": "1422a0c7-4cd3-4375-98d9-36071ff0aac1",
   "metadata": {},
   "outputs": [
    {
     "name": "stdout",
     "output_type": "stream",
     "text": [
      "Updated mountain_fin_11 with 서울특별시\n",
      "{'took': 316, 'timed_out': False, 'total': 876, 'updated': 876, 'deleted': 0, 'batches': 1, 'version_conflicts': 0, 'noops': 0, 'retries': {'bulk': 0, 'search': 0}, 'throttled_millis': 0, 'requests_per_second': -1.0, 'throttled_until_millis': 0, 'failures': []}\n",
      "Updated mountain_fin_26 with 부산광역시\n",
      "{'took': 480, 'timed_out': False, 'total': 2619, 'updated': 2619, 'deleted': 0, 'batches': 3, 'version_conflicts': 0, 'noops': 0, 'retries': {'bulk': 0, 'search': 0}, 'throttled_millis': 0, 'requests_per_second': -1.0, 'throttled_until_millis': 0, 'failures': []}\n",
      "Updated mountain_fin_27 with 대구광역시\n",
      "{'took': 731, 'timed_out': False, 'total': 5110, 'updated': 5110, 'deleted': 0, 'batches': 6, 'version_conflicts': 0, 'noops': 0, 'retries': {'bulk': 0, 'search': 0}, 'throttled_millis': 0, 'requests_per_second': -1.0, 'throttled_until_millis': 0, 'failures': []}\n",
      "Updated mountain_fin_28 with 인천광역시\n",
      "{'took': 286, 'timed_out': False, 'total': 854, 'updated': 854, 'deleted': 0, 'batches': 1, 'version_conflicts': 0, 'noops': 0, 'retries': {'bulk': 0, 'search': 0}, 'throttled_millis': 0, 'requests_per_second': -1.0, 'throttled_until_millis': 0, 'failures': []}\n",
      "Updated mountain_fin_29 with 광주광역시\n",
      "{'took': 337, 'timed_out': False, 'total': 2808, 'updated': 2808, 'deleted': 0, 'batches': 3, 'version_conflicts': 0, 'noops': 0, 'retries': {'bulk': 0, 'search': 0}, 'throttled_millis': 0, 'requests_per_second': -1.0, 'throttled_until_millis': 0, 'failures': []}\n",
      "Updated mountain_fin_30 with 대전광역시\n",
      "{'took': 400, 'timed_out': False, 'total': 3163, 'updated': 3163, 'deleted': 0, 'batches': 4, 'version_conflicts': 0, 'noops': 0, 'retries': {'bulk': 0, 'search': 0}, 'throttled_millis': 0, 'requests_per_second': -1.0, 'throttled_until_millis': 0, 'failures': []}\n",
      "Updated mountain_fin_31 with 울산광역시\n",
      "{'took': 591, 'timed_out': False, 'total': 4939, 'updated': 4939, 'deleted': 0, 'batches': 5, 'version_conflicts': 0, 'noops': 0, 'retries': {'bulk': 0, 'search': 0}, 'throttled_millis': 0, 'requests_per_second': -1.0, 'throttled_until_millis': 0, 'failures': []}\n",
      "Updated mountain_fin_36 with 세종특별자치시\n",
      "{'took': 488, 'timed_out': False, 'total': 3514, 'updated': 3514, 'deleted': 0, 'batches': 4, 'version_conflicts': 0, 'noops': 0, 'retries': {'bulk': 0, 'search': 0}, 'throttled_millis': 0, 'requests_per_second': -1.0, 'throttled_until_millis': 0, 'failures': []}\n",
      "Updated mountain_fin_41 with 경기도\n",
      "{'took': 3578, 'timed_out': False, 'total': 42232, 'updated': 42232, 'deleted': 0, 'batches': 43, 'version_conflicts': 0, 'noops': 0, 'retries': {'bulk': 0, 'search': 0}, 'throttled_millis': 0, 'requests_per_second': -1.0, 'throttled_until_millis': 0, 'failures': []}\n",
      "Updated mountain_fin_43 with 충청북도\n",
      "{'took': 3906, 'timed_out': False, 'total': 52312, 'updated': 52312, 'deleted': 0, 'batches': 53, 'version_conflicts': 0, 'noops': 0, 'retries': {'bulk': 0, 'search': 0}, 'throttled_millis': 0, 'requests_per_second': -1.0, 'throttled_until_millis': 0, 'failures': []}\n",
      "Updated mountain_fin_44 with 충청남도\n",
      "{'took': 3587, 'timed_out': False, 'total': 50372, 'updated': 50372, 'deleted': 0, 'batches': 51, 'version_conflicts': 0, 'noops': 0, 'retries': {'bulk': 0, 'search': 0}, 'throttled_millis': 0, 'requests_per_second': -1.0, 'throttled_until_millis': 0, 'failures': []}\n",
      "Updated mountain_fin_46 with 전라남도\n",
      "{'took': 5404, 'timed_out': False, 'total': 68384, 'updated': 68384, 'deleted': 0, 'batches': 69, 'version_conflicts': 0, 'noops': 0, 'retries': {'bulk': 0, 'search': 0}, 'throttled_millis': 0, 'requests_per_second': -1.0, 'throttled_until_millis': 0, 'failures': []}\n",
      "Updated mountain_fin_47 with 경상북도\n",
      "{'took': 7790, 'timed_out': False, 'total': 89097, 'updated': 89097, 'deleted': 0, 'batches': 90, 'version_conflicts': 0, 'noops': 0, 'retries': {'bulk': 0, 'search': 0}, 'throttled_millis': 0, 'requests_per_second': -1.0, 'throttled_until_millis': 0, 'failures': []}\n",
      "Updated mountain_fin_48 with 경상남도\n",
      "{'took': 4038, 'timed_out': False, 'total': 49515, 'updated': 49515, 'deleted': 0, 'batches': 50, 'version_conflicts': 0, 'noops': 0, 'retries': {'bulk': 0, 'search': 0}, 'throttled_millis': 0, 'requests_per_second': -1.0, 'throttled_until_millis': 0, 'failures': []}\n",
      "Updated mountain_fin_50 with 제주특별자치도\n",
      "{'took': 690, 'timed_out': False, 'total': 7512, 'updated': 7512, 'deleted': 0, 'batches': 8, 'version_conflicts': 0, 'noops': 0, 'retries': {'bulk': 0, 'search': 0}, 'throttled_millis': 0, 'requests_per_second': -1.0, 'throttled_until_millis': 0, 'failures': []}\n",
      "Updated mountain_fin_51 with 강원특별자치도\n",
      "{'took': 5817, 'timed_out': False, 'total': 67977, 'updated': 67977, 'deleted': 0, 'batches': 68, 'version_conflicts': 0, 'noops': 0, 'retries': {'bulk': 0, 'search': 0}, 'throttled_millis': 0, 'requests_per_second': -1.0, 'throttled_until_millis': 0, 'failures': []}\n",
      "Updated mountain_fin_52 with 전북특별자치도\n",
      "{'took': 3508, 'timed_out': False, 'total': 47655, 'updated': 47655, 'deleted': 0, 'batches': 48, 'version_conflicts': 0, 'noops': 0, 'retries': {'bulk': 0, 'search': 0}, 'throttled_millis': 0, 'requests_per_second': -1.0, 'throttled_until_millis': 0, 'failures': []}\n"
     ]
    }
   ],
   "source": [
    "# Elasticsearch 연결 설정\n",
    "es = Elasticsearch(['http://localhost:9200'])\n",
    "\n",
    "# 시도 코드와 코드명 매핑\n",
    "sido_mapping = {\n",
    "  \"11\": \"서울특별시\",\n",
    "  \"26\": \"부산광역시\",\n",
    "  \"27\": \"대구광역시\",\n",
    "  \"28\": \"인천광역시\",\n",
    "  \"29\": \"광주광역시\",\n",
    "  \"30\": \"대전광역시\",\n",
    "  \"31\": \"울산광역시\",\n",
    "  \"36\": \"세종특별자치시\",\n",
    "  \"41\": \"경기도\",\n",
    "  \"43\": \"충청북도\",\n",
    "  \"44\": \"충청남도\",\n",
    "  \"46\": \"전라남도\",\n",
    "  \"47\": \"경상북도\",\n",
    "  \"48\": \"경상남도\",\n",
    "  \"50\": \"제주특별자치도\",\n",
    "  \"51\": \"강원특별자치도\",\n",
    "  \"52\": \"전북특별자치도\"\n",
    "}\n",
    "\n",
    "# 각 인덱스에 대해 update_by_query 실행\n",
    "for sido_code, sido_name in sido_mapping.items():\n",
    "  index_name = f\"mountain_fin_{sido_code}\"\n",
    "  body = {\n",
    "    \"script\": {\n",
    "      \"source\": f\"ctx._source['시/도'] = '{sido_name}'\",\n",
    "      \"lang\": \"painless\"\n",
    "    },\n",
    "    \"query\": {\n",
    "      \"match_all\": {}\n",
    "    }\n",
    "  }\n",
    "    \n",
    "  # update_by_query 호출\n",
    "  response = es.update_by_query(index=index_name, body=body)\n",
    "  print(f\"Updated {index_name} with {sido_name}\")\n",
    "  print(response)\n"
   ]
  }
 ],
 "metadata": {
  "kernelspec": {
   "display_name": "Python 3 (ipykernel)",
   "language": "python",
   "name": "python3"
  },
  "language_info": {
   "codemirror_mode": {
    "name": "ipython",
    "version": 3
   },
   "file_extension": ".py",
   "mimetype": "text/x-python",
   "name": "python",
   "nbconvert_exporter": "python",
   "pygments_lexer": "ipython3",
   "version": "3.12.3"
  }
 },
 "nbformat": 4,
 "nbformat_minor": 5
}
