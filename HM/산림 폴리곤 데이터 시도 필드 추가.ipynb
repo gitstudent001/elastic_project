{
 "cells": [
  {
   "cell_type": "code",
   "execution_count": null,
   "id": "d0074a65-fd61-4178-8e29-b809339dcabf",
   "metadata": {},
   "outputs": [],
   "source": [
    "from elasticsearch import Elasticsearch\n",
    "import warnings\n",
    "warnings.filterwarnings('ignore')"
   ]
  },
  {
   "cell_type": "code",
   "execution_count": null,
   "id": "1422a0c7-4cd3-4375-98d9-36071ff0aac1",
   "metadata": {},
   "outputs": [],
   "source": [
    "# Elasticsearch 연결 설정\n",
    "es = Elasticsearch(['http://localhost:9200'])\n",
    "\n",
    "# 시도 코드와 코드명 매핑\n",
    "sido_mapping = {\n",
    "  \"11\": \"서울특별시\",\n",
    "  \"26\": \"부산광역시\",\n",
    "  \"27\": \"대구광역시\",\n",
    "  \"28\": \"인천광역시\",\n",
    "  \"29\": \"광주광역시\",\n",
    "  \"30\": \"대전광역시\",\n",
    "  \"31\": \"울산광역시\",\n",
    "  \"36\": \"세종특별자치시\",\n",
    "  \"41\": \"경기도\",\n",
    "  \"43\": \"충청북도\",\n",
    "  \"44\": \"충청남도\",\n",
    "  \"46\": \"전라남도\",\n",
    "  \"47\": \"경상북도\",\n",
    "  \"48\": \"경상남도\",\n",
    "  \"50\": \"제주특별자치도\",\n",
    "  \"51\": \"강원특별자치도\",\n",
    "  \"52\": \"전북특별자치도\"\n",
    "}\n",
    "\n",
    "# 각 인덱스에 대해 update_by_query 실행\n",
    "for sido_code, sido_name in sido_mapping.items():\n",
    "  index_name = f\"mountain_fin_{sido_code}\"\n",
    "  body = {\n",
    "    \"script\": {\n",
    "      \"source\": f\"ctx._source['시/도'] = '{sido_name}'\",\n",
    "      \"lang\": \"painless\"\n",
    "    },\n",
    "    \"query\": {\n",
    "      \"match_all\": {}\n",
    "    }\n",
    "  }\n",
    "    \n",
    "  # update_by_query 호출\n",
    "  response = es.update_by_query(index=index_name, body=body)\n",
    "  print(f\"Updated {index_name} with {sido_name}\")\n",
    "  print(response)\n"
   ]
  }
 ],
 "metadata": {
  "kernelspec": {
   "display_name": "Python 3 (ipykernel)",
   "language": "python",
   "name": "python3"
  },
  "language_info": {
   "codemirror_mode": {
    "name": "ipython",
    "version": 3
   },
   "file_extension": ".py",
   "mimetype": "text/x-python",
   "name": "python",
   "nbconvert_exporter": "python",
   "pygments_lexer": "ipython3",
   "version": "3.12.3"
  }
 },
 "nbformat": 4,
 "nbformat_minor": 5
}
