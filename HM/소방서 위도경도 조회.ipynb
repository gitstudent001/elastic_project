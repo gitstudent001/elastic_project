{
 "cells": [
  {
   "cell_type": "code",
   "execution_count": null,
   "id": "24d3b6eb-e234-457f-8aa0-b36655a59ef9",
   "metadata": {},
   "outputs": [],
   "source": [
    "# 기타 라이브러리\n",
    "import time\n",
    "import warnings\n",
    "warnings.filterwarnings('ignore')\n",
    "\n",
    "# 데이터프레임용 라이브러리\n",
    "import pandas as pd\n",
    "# 위도경도 변환용 라이브러리\n",
    "#!pip install geopy\n",
    "from geopy.geocoders import GoogleV3"
   ]
  },
  {
   "cell_type": "code",
   "execution_count": null,
   "id": "3e2868d8-7361-472e-be3c-a42cb6e7d9dc",
   "metadata": {
    "scrolled": true
   },
   "outputs": [],
   "source": [
    "# 소방 119 안전센터\n",
    "fire_safe = pd.read_csv('소방청_119안전센터 현황_20240630.csv', encoding = 'cp949')\n",
    "fire_safe_df = fire_safe.drop(columns = ['순번', '전화번호', 'FAX'])\n",
    "fire_safe_df['latitude'] = 0.0\n",
    "fire_safe_df['longitude'] = 0.0\n",
    "fire_safe_df"
   ]
  },
  {
   "cell_type": "code",
   "execution_count": null,
   "id": "0407305b-7cb0-4c29-9280-a357ebffbaff",
   "metadata": {},
   "outputs": [],
   "source": [
    "# 소방서\n",
    "fire_station = pd.read_csv('소방청_시도 소방서 현황_20240630.csv', encoding = 'cp949')\n",
    "fire_station_df = fire_station.drop(columns = ['순번', '전화번호', 'FAX'])\n",
    "fire_station_df['latitude'] = 0.0\n",
    "fire_station_df['longitude'] = 0.0\n",
    "fire_station_df"
   ]
  },
  {
   "cell_type": "code",
   "execution_count": null,
   "id": "e758231a-2f2e-4265-81d3-f9ea2f892121",
   "metadata": {},
   "outputs": [],
   "source": [
    "# Google Geolocator 객체 생성\n",
    "geolocator = GoogleV3(api_key=\"본인API\")\n",
    "\n",
    "for idx, row in fire_safe_df.iterrows() :\n",
    "  try:\n",
    "    # 주소를 위도와 경도로 변환\n",
    "    location = geolocator.geocode(row['주소'], timeout=10)\n",
    "    if location:\n",
    "      print(f\"위도: {location.latitude}, 경도: {location.longitude}\")\n",
    "      fire_safe_df.at[idx, 'latitude'] = location.latitude\n",
    "      fire_safe_df.at[idx, 'longitude'] = location.longitude\n",
    "    else:\n",
    "      print(\"주소를 변환할 수 없습니다.\")\n",
    "  except Exception as e:\n",
    "    print(f\"오류 발생: {e}\")\n",
    "    fire_safe_df.at[idx, 'latitude'] = 0\n",
    "    fire_safe_df.at[idx, 'longitude'] = 0\n",
    "  time.sleep(0.3)\n",
    "\n",
    "fire_safe_df"
   ]
  },
  {
   "cell_type": "code",
   "execution_count": null,
   "id": "cf93e4d0-8f4d-405b-b34e-e700d8137606",
   "metadata": {},
   "outputs": [],
   "source": [
    "# Google Geolocator 객체 생성\n",
    "geolocator = GoogleV3(api_key=\"본인API\")\n",
    "\n",
    "for idx, row in fire_station_df.iterrows() :\n",
    "  try:\n",
    "    # 주소를 위도와 경도로 변환\n",
    "    location = geolocator.geocode(row['주소'], timeout=10)\n",
    "    if location:\n",
    "      print(f\"위도: {location.latitude}, 경도: {location.longitude}\")\n",
    "      fire_station_df.at[idx, 'latitude'] = location.latitude\n",
    "      fire_station_df.at[idx, 'longitude'] = location.longitude\n",
    "    else:\n",
    "      print(\"주소를 변환할 수 없습니다.\")\n",
    "  except Exception as e:\n",
    "    print(f\"오류 발생: {e}\")\n",
    "    fire_station_df.at[idx, 'latitude'] = 0\n",
    "    fire_station_df.at[idx, 'longitude'] = 0\n",
    "  time.sleep(0.3)\n",
    "\n",
    "fire_station_df"
   ]
  },
  {
   "cell_type": "code",
   "execution_count": null,
   "id": "b814cb9a-024d-4351-8acd-d13852bd06d6",
   "metadata": {},
   "outputs": [],
   "source": [
    "fire_station_df['본부명'].unique()"
   ]
  },
  {
   "cell_type": "code",
   "execution_count": null,
   "id": "f7685938-e5ba-4d6b-aad8-31fce7e3ae99",
   "metadata": {
    "scrolled": true
   },
   "outputs": [],
   "source": [
    "fire_safe_df.info()\n",
    "fire_station_df.info()"
   ]
  },
  {
   "cell_type": "code",
   "execution_count": null,
   "id": "ec45a520-2b15-46b8-a033-f30e91b7dd00",
   "metadata": {},
   "outputs": [],
   "source": [
    "fire_safe_df.to_csv('fire_safe_geo.csv', encoding = 'utf-8', index = False)\n",
    "fire_station_df.to_csv('fire_station_geo.csv', encoding = 'utf-8', index = False)"
   ]
  },
  {
   "cell_type": "code",
   "execution_count": null,
   "id": "2501f132-ddca-47f6-b842-1c249b0adfe5",
   "metadata": {},
   "outputs": [],
   "source": [
    "# 컬럼 확인\n",
    "df = pd.read_csv('전처리data/fire_station_geo.csv', encoding = 'utf-8')\n",
    "# '본부명'과 '주소'의 앞 두 글자를 비교하여 서로 다른 행만 필터링\n",
    "df_filtered = df[df['본부명'].str[:2] != df['주소'].str[:2]]\n",
    "\n",
    "display(df_filtered[:50])\n",
    "display(df_filtered[50:])"
   ]
  }
 ],
 "metadata": {
  "kernelspec": {
   "display_name": "Python 3 (ipykernel)",
   "language": "python",
   "name": "python3"
  },
  "language_info": {
   "codemirror_mode": {
    "name": "ipython",
    "version": 3
   },
   "file_extension": ".py",
   "mimetype": "text/x-python",
   "name": "python",
   "nbconvert_exporter": "python",
   "pygments_lexer": "ipython3",
   "version": "3.12.3"
  }
 },
 "nbformat": 4,
 "nbformat_minor": 5
}
