{
 "cells": [
  {
   "cell_type": "code",
   "execution_count": null,
   "id": "6252c64c-9095-453d-88f1-e69cb57594a0",
   "metadata": {},
   "outputs": [],
   "source": [
    "from elasticsearch import Elasticsearch\n",
    "from datetime import datetime\n",
    "import json\n",
    "import warnings\n",
    "warnings.filterwarnings('ignore')"
   ]
  },
  {
   "cell_type": "code",
   "execution_count": null,
   "id": "380bdf9a-35b5-421d-a12f-1f213856344d",
   "metadata": {},
   "outputs": [],
   "source": [
    "# Elasticsearch 클라이언트 초기화\n",
    "es = Elasticsearch(\"http://localhost:9200\")  # Elasticsearch 서버 주소\n",
    "\n",
    "# 산림 코드 매핑\n",
    "forest_type_map = {\n",
    "    \"C\": \"침엽수림\", \"H\": \"활엽수림\", \"M\": \"침활혼효림\", \"D\": \"소나무림\",\n",
    "    \"PD\": \"소나무 인공림\", \"PK\": \"잣나무림\", \"PL\": \"낙엽송림\", \"PR\": \"리기다소나무림\",\n",
    "    \"Q\": \"참나무림\", \"PQ\": \"참나무인공림\", \"Po\": \"포푸라림\", \"Ca\": \"밤나무림\",\n",
    "    \"Cr\": \"삼나무림\", \"Co\": \"편백나무림\", \"Ab\": \"전나무\", \"Pc\": \"침엽수 인공림\",\n",
    "    \"PH\": \"활엽수 인공림\", \"B\": \"죽림\", \"F\": \"별채적지\", \"O\": \"이립목지\",\n",
    "    \"E\": \"황폐지\", \"LP\": \"목장\", \"L\": \"경작지\", \"R\": \"제지\", \"W\": \"수체\",\n",
    "    \"Dn\": \"임간나지\", \"99\": \"해당없음\"\n",
    "}\n",
    "\n",
    "# 인덱스 매핑 생성\n",
    "index_name = \"real_mountain_fire\"\n",
    "mapping = {\n",
    "    \"mappings\": {\n",
    "        \"properties\": {\n",
    "            \"지번주소\": {\"type\": \"keyword\"},\n",
    "            \"사유\": {\"type\": \"keyword\"},\n",
    "            \"피해면적\": {\"type\": \"double\"},\n",
    "            \"피해금액\": {\"type\": \"double\"},\n",
    "            \"시/도명\": {\"type\": \"keyword\"},\n",
    "            \"발생시각\": {\"type\": \"date\"},\n",
    "            \"진화시간\": {\"type\": \"integer\"},\n",
    "            \"FIFTH_FRTP\": {\"type\": \"keyword\"},\n",
    "            \"산림명\": {\"type\": \"keyword\"},\n",
    "            \"location\": {\"type\": \"geo_point\"}\n",
    "        }\n",
    "    }\n",
    "}\n",
    "\n",
    "# 인덱스 생성\n",
    "if not es.indices.exists(index=index_name):\n",
    "    es.indices.create(index=index_name, body=mapping)\n",
    "\n",
    "# GeoJSONL 파일 읽기 및 데이터 전송\n",
    "file_path = \"C:/workspace/3rd_project/_data/geojsonl/real_mountain_fire.geojsonl\"\n",
    "\n",
    "with open(file_path, \"r\", encoding=\"utf-8\") as file:\n",
    "    for line in file:\n",
    "        feature = json.loads(line)\n",
    "        props = feature[\"properties\"]\n",
    "\n",
    "        # location 필드 생성\n",
    "        props[\"location\"] = {\n",
    "            \"lat\": props[\"위도\"],\n",
    "            \"lon\": props[\"경도\"]\n",
    "        }\n",
    "        # 산림명 매핑\n",
    "        props[\"산림명\"] = forest_type_map.get(props[\"FIFTH_FRTP\"], \"알 수 없음\")\n",
    "        # 불필요한 필드 제거\n",
    "        del props[\"위도\"], props[\"경도\"]\n",
    "\n",
    "        # 데이터 인덱싱\n",
    "        es.index(index=index_name, body=props)\n",
    "\n",
    "print(\"GeoJSONL 데이터 전송 완료\")\n"
   ]
  }
 ],
 "metadata": {
  "kernelspec": {
   "display_name": "Python 3 (ipykernel)",
   "language": "python",
   "name": "python3"
  },
  "language_info": {
   "codemirror_mode": {
    "name": "ipython",
    "version": 3
   },
   "file_extension": ".py",
   "mimetype": "text/x-python",
   "name": "python",
   "nbconvert_exporter": "python",
   "pygments_lexer": "ipython3",
   "version": "3.12.3"
  }
 },
 "nbformat": 4,
 "nbformat_minor": 5
}
