{
 "cells": [
  {
   "cell_type": "code",
   "execution_count": 1,
   "id": "24d3b6eb-e234-457f-8aa0-b36655a59ef9",
   "metadata": {},
   "outputs": [],
   "source": [
    "# 웹크롤링용 라이브러리\n",
    "from selenium import webdriver\n",
    "from selenium.webdriver.common.by import By\n",
    "from selenium.webdriver.common.keys import Keys\n",
    "from selenium.webdriver.support import expected_conditions as EC\n",
    "from selenium.common.exceptions import NoSuchElementException\n",
    "from selenium.webdriver.support.ui import WebDriverWait\n",
    "from bs4 import BeautifulSoup\n",
    "\n",
    "# 기타 라이브러리\n",
    "import time\n",
    "import warnings\n",
    "warnings.filterwarnings('ignore')\n",
    "\n",
    "# 데이터프레임용 라이브러리\n",
    "import pandas as pd\n",
    "# 위도경도 변환용 라이브러리\n",
    "#!pip install geopy\n",
    "from geopy.geocoders import GoogleV3"
   ]
  },
  {
   "cell_type": "code",
   "execution_count": 2,
   "id": "6435fe57-9f72-4c5f-8097-8371faefcb98",
   "metadata": {},
   "outputs": [],
   "source": [
    "def check_element_exists(css_selector):\n",
    "  try:\n",
    "    test = driver.find_element(By.CSS_SELECTOR, css_selector)\n",
    "    #print('false')\n",
    "    return False\n",
    "  except NoSuchElementException:\n",
    "    #print('true')\n",
    "    return True"
   ]
  },
  {
   "cell_type": "code",
   "execution_count": null,
   "id": "db4f510e-b434-49d0-91ac-445aa00712dd",
   "metadata": {
    "scrolled": true
   },
   "outputs": [],
   "source": [
    "url = 'https://map.forest.go.kr/forest/'\n",
    "# Google Geolocator 객체 생성\n",
    "geolocator = GoogleV3(api_key=\"본인API\")\n",
    "\n",
    "options = webdriver.ChromeOptions()\n",
    "options.add_argument('User-Agent=Mozilla/5.0')\n",
    "options.add_experimental_option(\"excludeSwitches\", [\"enable-automation\"])\n",
    "options.add_experimental_option('useAutomationExtension', False)\n",
    "driver = webdriver.Chrome()\n",
    "driver.get(url)\n",
    "\n",
    "choso = []\n",
    "\n",
    "btn = driver.find_element(By.CSS_SELECTOR, '#cookiecheck')\n",
    "btn.click()\n",
    "time.sleep(0.5)\n",
    "\n",
    "search = driver.find_element(By.CSS_SELECTOR, '#poisearch-text').send_keys('산불감시초소')\n",
    "time.sleep(0.5)\n",
    "search_btn = driver.find_element(By.CSS_SELECTOR, '#poi-search-btn > input[type=image]')\n",
    "search_btn.click()\n",
    "time.sleep(0.5)\n",
    "\n",
    "while True : \n",
    "  css_selector = \"#result-table_wrapper > div:nth-child(3) > div:nth-child(2) > div > ul > li.next.disabled\"\n",
    "  is_exists = check_element_exists(css_selector)\n",
    "\n",
    "  # 다음 버튼이 비활성화 될 경우 반복 중지\n",
    "  if is_exists == False :\n",
    "    break\n",
    "  \n",
    "  html = driver.page_source\n",
    "  soup = BeautifulSoup(html, 'html.parser')\n",
    "  infos = soup.select('#dorojusoResultTbody > tr')\n",
    "  \n",
    "  for info in infos :\n",
    "    # 초소명\n",
    "    name = info.select_one('#dorojusoResultTbody > tr > td:nth-child(1)').text\n",
    "    address = info.select_one('#dorojusoResultTbody > tr > td:nth-child(2)').text\n",
    "    try:\n",
    "      # 주소를 위도와 경도로 변환\n",
    "      location = geolocator.geocode(address, timeout=10)\n",
    "      if location:\n",
    "        print(f\"위도: {location.latitude}, 경도: {location.longitude}\")\n",
    "        latitude = location.latitude\n",
    "        longitude = location.longitude\n",
    "      else:\n",
    "        print(\"주소를 변환할 수 없습니다.\")\n",
    "    except Exception as e:\n",
    "      print(f\"오류 발생: {e}\")\n",
    "      latitude = 0\n",
    "      longitude = 0\n",
    "    time.sleep(0.3)\n",
    "    choso.append([name, address, latitude, longitude])\n",
    "  \n",
    "  if is_exists == True :\n",
    "    next_btn = driver.find_element(By.CSS_SELECTOR, '#result-table_wrapper > div:nth-child(3) > div:nth-child(2) > div > ul > li.next > a').click()\n",
    "    time.sleep(0.5)\n",
    "    \n",
    "  # 다음 버튼이 비활성화 될 경우 반복 중지\n",
    "  else : \n",
    "    break\n",
    "driver.quit()\n",
    "\n",
    "choso_df = pd.DataFrame(choso, columns = ['name', 'address', 'latitude', 'longitude'])\n",
    "choso_df.info()\n",
    "choso_df"
   ]
  },
  {
   "cell_type": "code",
   "execution_count": 5,
   "id": "ec45a520-2b15-46b8-a033-f30e91b7dd00",
   "metadata": {},
   "outputs": [],
   "source": [
    "choso_df = choso_df.drop(0).reset_index(drop=True)\n",
    "choso_df.to_csv('초소이름.csv', encoding = 'utf-8', index = False)"
   ]
  }
 ],
 "metadata": {
  "kernelspec": {
   "display_name": "Python 3 (ipykernel)",
   "language": "python",
   "name": "python3"
  },
  "language_info": {
   "codemirror_mode": {
    "name": "ipython",
    "version": 3
   },
   "file_extension": ".py",
   "mimetype": "text/x-python",
   "name": "python",
   "nbconvert_exporter": "python",
   "pygments_lexer": "ipython3",
   "version": "3.12.3"
  }
 },
 "nbformat": 4,
 "nbformat_minor": 5
}
