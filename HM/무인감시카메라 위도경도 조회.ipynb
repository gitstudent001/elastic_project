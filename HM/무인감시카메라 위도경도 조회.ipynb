{
 "cells": [
  {
   "cell_type": "code",
   "execution_count": 26,
   "id": "24d3b6eb-e234-457f-8aa0-b36655a59ef9",
   "metadata": {},
   "outputs": [],
   "source": [
    "# 기타 라이브러리\n",
    "import time\n",
    "import warnings\n",
    "warnings.filterwarnings('ignore')\n",
    "\n",
    "# 데이터프레임용 라이브러리\n",
    "import pandas as pd\n",
    "# 위도경도 변환용 라이브러리\n",
    "#!pip install geopy\n",
    "from geopy.geocoders import GoogleV3"
   ]
  },
  {
   "cell_type": "code",
   "execution_count": null,
   "id": "3e2868d8-7361-472e-be3c-a42cb6e7d9dc",
   "metadata": {
    "scrolled": true
   },
   "outputs": [],
   "source": [
    "cctv = pd.read_csv('cctv.csv')\n",
    "cctv = cctv[:-1]\n",
    "cctv.columns = ['unit', 'year', 'address', 'alias', 'device', 'authority']\n",
    "cctv"
   ]
  },
  {
   "cell_type": "code",
   "execution_count": null,
   "id": "e758231a-2f2e-4265-81d3-f9ea2f892121",
   "metadata": {
    "scrolled": true
   },
   "outputs": [],
   "source": [
    "# Google Geolocator 객체 생성\n",
    "geolocator = GoogleV3(api_key=\"본인API\")\n",
    "\n",
    "# 위도, 경도 컬럼 추가\n",
    "cctv['latitude'] = 0.0\n",
    "cctv['longitude'] = 0.0\n",
    "\n",
    "for idx, row in cctv.iterrows() :\n",
    "  try:\n",
    "    # 주소를 위도와 경도로 변환\n",
    "    location = geolocator.geocode(row['address'], timeout=10)\n",
    "    if location:\n",
    "      print(f\"위도: {location.latitude}, 경도: {location.longitude}\")\n",
    "      cctv.at[idx, 'latitude'] = location.latitude\n",
    "      cctv.at[idx, 'longitude'] = location.longitude\n",
    "    else:\n",
    "      print(\"주소를 변환할 수 없습니다.\")\n",
    "  except Exception as e:\n",
    "    print(f\"오류 발생: {e}\")\n",
    "    cctv.at[idx, 'latitude'] = 0\n",
    "    cctv.at[idx, 'longitude'] = 0\n",
    "  time.sleep(0.3)\n",
    "\n",
    "cctv"
   ]
  },
  {
   "cell_type": "code",
   "execution_count": null,
   "id": "f7685938-e5ba-4d6b-aad8-31fce7e3ae99",
   "metadata": {
    "scrolled": true
   },
   "outputs": [],
   "source": [
    "cctv.info()\n",
    "cctv['year'] = pd.to_datetime(cctv['year'], format = '%Y')\n",
    "cctv.info()\n",
    "cctv"
   ]
  },
  {
   "cell_type": "code",
   "execution_count": 33,
   "id": "ec45a520-2b15-46b8-a033-f30e91b7dd00",
   "metadata": {},
   "outputs": [],
   "source": [
    "cctv.to_csv('cctv_geo.csv', encoding = 'utf-8', index = False)"
   ]
  }
 ],
 "metadata": {
  "kernelspec": {
   "display_name": "Python 3 (ipykernel)",
   "language": "python",
   "name": "python3"
  },
  "language_info": {
   "codemirror_mode": {
    "name": "ipython",
    "version": 3
   },
   "file_extension": ".py",
   "mimetype": "text/x-python",
   "name": "python",
   "nbconvert_exporter": "python",
   "pygments_lexer": "ipython3",
   "version": "3.12.3"
  }
 },
 "nbformat": 4,
 "nbformat_minor": 5
}
