{
 "cells": [
  {
   "cell_type": "code",
   "execution_count": 164,
   "id": "b15d81f2-969e-4a1a-a66c-d3d89d1b028c",
   "metadata": {},
   "outputs": [],
   "source": [
    "import requests\n",
    "import json\n",
    "import pandas as pd\n",
    "import time"
   ]
  },
  {
   "cell_type": "code",
   "execution_count": 165,
   "id": "b882f6d4-73f5-49be-bcf5-49997844895d",
   "metadata": {},
   "outputs": [],
   "source": [
    "# pip install xmltodict"
   ]
  },
  {
   "cell_type": "code",
   "execution_count": 166,
   "id": "a6a90267-b0e8-4c26-9e3b-4d6569940681",
   "metadata": {},
   "outputs": [],
   "source": [
    "import xmltodict"
   ]
  },
  {
   "cell_type": "code",
   "execution_count": 167,
   "id": "ade78d97-4d5d-44fb-a7d0-ca6cc3a74d4f",
   "metadata": {},
   "outputs": [],
   "source": [
    "data_df = pd.DataFrame()"
   ]
  },
  {
   "cell_type": "code",
   "execution_count": 168,
   "id": "45873b09-693d-42a8-999d-2c7257e89d25",
   "metadata": {},
   "outputs": [],
   "source": [
    "url = 'http://safemap.go.kr/openApiService/data/getFrfireSttusData.do'"
   ]
  },
  {
   "cell_type": "code",
   "execution_count": 169,
   "id": "23a85a67-771d-4180-8158-fb0d664d5cba",
   "metadata": {},
   "outputs": [],
   "source": [
    "for i in range(1, 8) : \n",
    "    params ={'serviceKey' : '개인 api키 사용', \n",
    "             'pageNo' : i, \n",
    "             'numOfRows' : '1000'}\n",
    "\n",
    "    response = requests.get(url, params=params)\n",
    "    data = response.content.decode('utf-8')\n",
    "    temp_dict = xmltodict.parse(data)\n",
    "    temp_df = pd.DataFrame(temp_dict['response']['body']['items']['item'])\n",
    "    data_df = pd.concat([data_df, temp_df])\n",
    "    time.sleep(1)"
   ]
  },
  {
   "cell_type": "code",
   "execution_count": 171,
   "id": "73ce7ebb-d7e2-4b4f-95b1-26b6613e0ea6",
   "metadata": {},
   "outputs": [
    {
     "name": "stdout",
     "output_type": "stream",
     "text": [
      "<class 'pandas.core.frame.DataFrame'>\n",
      "Index: 6397 entries, 0 to 396\n",
      "Data columns (total 21 columns):\n",
      " #   Column     Non-Null Count  Dtype \n",
      "---  ------     --------------  ----- \n",
      " 0   OBJT_ID    6397 non-null   object\n",
      " 1   OCCU_YEAR  6397 non-null   object\n",
      " 2   OCCU_MT    6397 non-null   object\n",
      " 3   OCCU_DE    6397 non-null   object\n",
      " 4   OCCU_TM    6397 non-null   object\n",
      " 5   OCCU_DAY   6397 non-null   object\n",
      " 6   OCCU_DATE  6397 non-null   object\n",
      " 7   END_YEAR   6397 non-null   object\n",
      " 8   END_MT     6397 non-null   object\n",
      " 9   END_DE     6397 non-null   object\n",
      " 10  END_TM     6397 non-null   object\n",
      " 11  ADRES      6397 non-null   object\n",
      " 12  RN_ADRES   6397 non-null   object\n",
      " 13  RESN       6397 non-null   object\n",
      " 14  AR         6397 non-null   object\n",
      " 15  AMOUNT     6397 non-null   object\n",
      " 16  CTPRVN_CD  6397 non-null   object\n",
      " 17  SGG_CD     6397 non-null   object\n",
      " 18  EMD_CD     6397 non-null   object\n",
      " 19  X          6397 non-null   object\n",
      " 20  Y          6397 non-null   object\n",
      "dtypes: object(21)\n",
      "memory usage: 1.1+ MB\n"
     ]
    }
   ],
   "source": [
    "data_df.info()"
   ]
  },
  {
   "cell_type": "code",
   "execution_count": 172,
   "id": "d8490cd0-ec52-4bfe-9340-1c96b51099d8",
   "metadata": {},
   "outputs": [],
   "source": [
    "data_df = data_df.reset_index(drop=True)"
   ]
  },
  {
   "cell_type": "code",
   "execution_count": 173,
   "id": "5d26ee22-2e74-416e-a651-ba89cc114264",
   "metadata": {},
   "outputs": [],
   "source": [
    "data_df.columns = ['일련번호', '발생년도', '발생월', '발생일', '발생시간', '발생요일',\\\n",
    "                   '발생년월일', '종료년도', '종료월', '종료일', '종료시간', '지번주소',\\\n",
    "                   '도로명주소', '사유', '피해면적', '피해금액', '시도코드', '시군구코드',\\\n",
    "                   '읍면동코드', 'X좌표', 'Y좌표']"
   ]
  },
  {
   "cell_type": "code",
   "execution_count": null,
   "id": "e67c31fd-3d73-44cb-87d5-5b230d996354",
   "metadata": {},
   "outputs": [],
   "source": [
    "# data_df.to_csv('산불위치rawdata.csv', index=False, encoding='cp949')"
   ]
  },
  {
   "cell_type": "code",
   "execution_count": 174,
   "id": "719466f8-8467-4af0-8506-3b1a7a0b3e7d",
   "metadata": {},
   "outputs": [
    {
     "name": "stdout",
     "output_type": "stream",
     "text": [
      "<class 'pandas.core.frame.DataFrame'>\n",
      "RangeIndex: 6397 entries, 0 to 6396\n",
      "Data columns (total 21 columns):\n",
      " #   Column  Non-Null Count  Dtype \n",
      "---  ------  --------------  ----- \n",
      " 0   일련번호    6397 non-null   object\n",
      " 1   발생년도    6397 non-null   object\n",
      " 2   발생월     6397 non-null   object\n",
      " 3   발생일     6397 non-null   object\n",
      " 4   발생시간    6397 non-null   object\n",
      " 5   발생요일    6397 non-null   object\n",
      " 6   발생년월일   6397 non-null   object\n",
      " 7   종료년도    6397 non-null   object\n",
      " 8   종료월     6397 non-null   object\n",
      " 9   종료일     6397 non-null   object\n",
      " 10  종료시간    6397 non-null   object\n",
      " 11  지번주소    6397 non-null   object\n",
      " 12  도로명주소   6397 non-null   object\n",
      " 13  사유      6397 non-null   object\n",
      " 14  피해면적    6397 non-null   object\n",
      " 15  피해금액    6397 non-null   object\n",
      " 16  시도코드    6397 non-null   object\n",
      " 17  시군구코드   6397 non-null   object\n",
      " 18  읍면동코드   6397 non-null   object\n",
      " 19  X좌표     6397 non-null   object\n",
      " 20  Y좌표     6397 non-null   object\n",
      "dtypes: object(21)\n",
      "memory usage: 1.0+ MB\n"
     ]
    }
   ],
   "source": [
    "data_df.info()"
   ]
  },
  {
   "cell_type": "code",
   "execution_count": 175,
   "id": "3c23c3ad-49af-49e7-ad06-a0bd50d953bb",
   "metadata": {},
   "outputs": [
    {
     "data": {
      "text/plain": [
       "일련번호     0\n",
       "발생년도     0\n",
       "발생월      0\n",
       "발생일      0\n",
       "발생시간     0\n",
       "발생요일     0\n",
       "발생년월일    0\n",
       "종료년도     0\n",
       "종료월      0\n",
       "종료일      0\n",
       "종료시간     0\n",
       "지번주소     0\n",
       "도로명주소    0\n",
       "사유       0\n",
       "피해면적     0\n",
       "피해금액     0\n",
       "시도코드     0\n",
       "시군구코드    0\n",
       "읍면동코드    0\n",
       "X좌표      0\n",
       "Y좌표      0\n",
       "dtype: int64"
      ]
     },
     "execution_count": 175,
     "metadata": {},
     "output_type": "execute_result"
    }
   ],
   "source": [
    "data_df.isna().sum()"
   ]
  },
  {
   "cell_type": "code",
   "execution_count": 176,
   "id": "c79f8e67-809d-4dec-b567-e06448545607",
   "metadata": {},
   "outputs": [],
   "source": [
    "from pyproj import Transformer\n",
    "\n",
    "# EPSG:3857 -> EPSG:4326 (위도, 경도)로 변환\n",
    "transformer = Transformer.from_crs(\"EPSG:3857\", \"EPSG:4326\")\n",
    "\n",
    "lat_list = []\n",
    "lon_list = []\n",
    "\n",
    "for x, y in zip(data_df['X좌표'], data_df['Y좌표']) :\n",
    "    lat, lon = transformer.transform(x, y)\n",
    "    lat_list.append(lat)\n",
    "    lon_list.append(lon)"
   ]
  },
  {
   "cell_type": "code",
   "execution_count": 177,
   "id": "b2832406-9804-4f66-af88-ad7bde076281",
   "metadata": {},
   "outputs": [],
   "source": [
    "data_df['위도'] = lat_list\n",
    "data_df['경도'] = lon_list"
   ]
  },
  {
   "cell_type": "code",
   "execution_count": 178,
   "id": "ff5b3751-6c8c-45d2-b86a-9c686da5aede",
   "metadata": {},
   "outputs": [
    {
     "data": {
      "text/html": [
       "<div>\n",
       "<style scoped>\n",
       "    .dataframe tbody tr th:only-of-type {\n",
       "        vertical-align: middle;\n",
       "    }\n",
       "\n",
       "    .dataframe tbody tr th {\n",
       "        vertical-align: top;\n",
       "    }\n",
       "\n",
       "    .dataframe thead th {\n",
       "        text-align: right;\n",
       "    }\n",
       "</style>\n",
       "<table border=\"1\" class=\"dataframe\">\n",
       "  <thead>\n",
       "    <tr style=\"text-align: right;\">\n",
       "      <th></th>\n",
       "      <th>지번주소</th>\n",
       "      <th>X좌표</th>\n",
       "      <th>Y좌표</th>\n",
       "      <th>위도</th>\n",
       "      <th>경도</th>\n",
       "    </tr>\n",
       "  </thead>\n",
       "  <tbody>\n",
       "    <tr>\n",
       "      <th>0</th>\n",
       "      <td>경상남도 함안군 칠북면 봉촌리 산270-1</td>\n",
       "      <td>14309755.68</td>\n",
       "      <td>4213756.081</td>\n",
       "      <td>35.366184</td>\n",
       "      <td>128.546722</td>\n",
       "    </tr>\n",
       "    <tr>\n",
       "      <th>1</th>\n",
       "      <td>경상남도 거제시 일운면 소동리 산32-2</td>\n",
       "      <td>14327001.75</td>\n",
       "      <td>4142330.165</td>\n",
       "      <td>34.841262</td>\n",
       "      <td>128.701646</td>\n",
       "    </tr>\n",
       "    <tr>\n",
       "      <th>2</th>\n",
       "      <td>경상남도 거제시 일운면 소동리 산75-6</td>\n",
       "      <td>14324658.43</td>\n",
       "      <td>4141242.186</td>\n",
       "      <td>34.833240</td>\n",
       "      <td>128.680596</td>\n",
       "    </tr>\n",
       "    <tr>\n",
       "      <th>3</th>\n",
       "      <td>경상남도 산청군 단성면 입석리 산20</td>\n",
       "      <td>14239111.63</td>\n",
       "      <td>4204701.45</td>\n",
       "      <td>35.299827</td>\n",
       "      <td>127.912116</td>\n",
       "    </tr>\n",
       "    <tr>\n",
       "      <th>4</th>\n",
       "      <td>경상남도 산청군 생비량면 도리 산164</td>\n",
       "      <td>14254878.82</td>\n",
       "      <td>4208490.867</td>\n",
       "      <td>35.327604</td>\n",
       "      <td>128.053755</td>\n",
       "    </tr>\n",
       "  </tbody>\n",
       "</table>\n",
       "</div>"
      ],
      "text/plain": [
       "                      지번주소          X좌표          Y좌표         위도          경도\n",
       "0  경상남도 함안군 칠북면 봉촌리 산270-1  14309755.68  4213756.081  35.366184  128.546722\n",
       "1   경상남도 거제시 일운면 소동리 산32-2  14327001.75  4142330.165  34.841262  128.701646\n",
       "2   경상남도 거제시 일운면 소동리 산75-6  14324658.43  4141242.186  34.833240  128.680596\n",
       "3     경상남도 산청군 단성면 입석리 산20  14239111.63   4204701.45  35.299827  127.912116\n",
       "4    경상남도 산청군 생비량면 도리 산164  14254878.82  4208490.867  35.327604  128.053755"
      ]
     },
     "execution_count": 178,
     "metadata": {},
     "output_type": "execute_result"
    }
   ],
   "source": [
    "data_df[['지번주소', 'X좌표', 'Y좌표', '위도', '경도']].head()"
   ]
  },
  {
   "cell_type": "code",
   "execution_count": 179,
   "id": "977f251a-3454-4424-aa9e-636ef40f3380",
   "metadata": {},
   "outputs": [],
   "source": [
    "data_df = data_df.drop(columns=['일련번호', '발생년월일', '시도코드', '시군구코드', '읍면동코드',\\\n",
    "                                'X좌표', 'Y좌표', '도로명주소'])"
   ]
  },
  {
   "cell_type": "code",
   "execution_count": 180,
   "id": "a2f48ac7-f437-4cad-9554-292beda9f46e",
   "metadata": {},
   "outputs": [
    {
     "data": {
      "text/html": [
       "<div>\n",
       "<style scoped>\n",
       "    .dataframe tbody tr th:only-of-type {\n",
       "        vertical-align: middle;\n",
       "    }\n",
       "\n",
       "    .dataframe tbody tr th {\n",
       "        vertical-align: top;\n",
       "    }\n",
       "\n",
       "    .dataframe thead th {\n",
       "        text-align: right;\n",
       "    }\n",
       "</style>\n",
       "<table border=\"1\" class=\"dataframe\">\n",
       "  <thead>\n",
       "    <tr style=\"text-align: right;\">\n",
       "      <th></th>\n",
       "      <th>발생년도</th>\n",
       "      <th>발생월</th>\n",
       "      <th>발생일</th>\n",
       "      <th>발생시간</th>\n",
       "      <th>발생요일</th>\n",
       "      <th>종료년도</th>\n",
       "      <th>종료월</th>\n",
       "      <th>종료일</th>\n",
       "      <th>종료시간</th>\n",
       "      <th>지번주소</th>\n",
       "      <th>사유</th>\n",
       "      <th>피해면적</th>\n",
       "      <th>피해금액</th>\n",
       "      <th>위도</th>\n",
       "      <th>경도</th>\n",
       "    </tr>\n",
       "  </thead>\n",
       "  <tbody>\n",
       "    <tr>\n",
       "      <th>0</th>\n",
       "      <td>2011</td>\n",
       "      <td>01</td>\n",
       "      <td>01</td>\n",
       "      <td>1340</td>\n",
       "      <td>토요일</td>\n",
       "      <td>2011</td>\n",
       "      <td>01</td>\n",
       "      <td>01</td>\n",
       "      <td>1630</td>\n",
       "      <td>경상남도 함안군 칠북면 봉촌리 산270-1</td>\n",
       "      <td>입산자실화</td>\n",
       "      <td>1</td>\n",
       "      <td>52000</td>\n",
       "      <td>35.366184</td>\n",
       "      <td>128.546722</td>\n",
       "    </tr>\n",
       "    <tr>\n",
       "      <th>1</th>\n",
       "      <td>2011</td>\n",
       "      <td>01</td>\n",
       "      <td>01</td>\n",
       "      <td>1437</td>\n",
       "      <td>토요일</td>\n",
       "      <td>2011</td>\n",
       "      <td>01</td>\n",
       "      <td>01</td>\n",
       "      <td>1525</td>\n",
       "      <td>경상남도 거제시 일운면 소동리 산32-2</td>\n",
       "      <td>입산자실화</td>\n",
       "      <td>0.05</td>\n",
       "      <td>4096</td>\n",
       "      <td>34.841262</td>\n",
       "      <td>128.701646</td>\n",
       "    </tr>\n",
       "    <tr>\n",
       "      <th>2</th>\n",
       "      <td>2011</td>\n",
       "      <td>01</td>\n",
       "      <td>01</td>\n",
       "      <td>1607</td>\n",
       "      <td>토요일</td>\n",
       "      <td>2011</td>\n",
       "      <td>01</td>\n",
       "      <td>01</td>\n",
       "      <td>1620</td>\n",
       "      <td>경상남도 거제시 일운면 소동리 산75-6</td>\n",
       "      <td>입산자실화</td>\n",
       "      <td>0.02</td>\n",
       "      <td>2291</td>\n",
       "      <td>34.833240</td>\n",
       "      <td>128.680596</td>\n",
       "    </tr>\n",
       "    <tr>\n",
       "      <th>3</th>\n",
       "      <td>2011</td>\n",
       "      <td>01</td>\n",
       "      <td>08</td>\n",
       "      <td>1227</td>\n",
       "      <td>토요일</td>\n",
       "      <td>2011</td>\n",
       "      <td>01</td>\n",
       "      <td>08</td>\n",
       "      <td>1255</td>\n",
       "      <td>경상남도 산청군 단성면 입석리 산20</td>\n",
       "      <td>쓰레기소각</td>\n",
       "      <td>0.01</td>\n",
       "      <td>3730</td>\n",
       "      <td>35.299827</td>\n",
       "      <td>127.912116</td>\n",
       "    </tr>\n",
       "    <tr>\n",
       "      <th>4</th>\n",
       "      <td>2011</td>\n",
       "      <td>01</td>\n",
       "      <td>10</td>\n",
       "      <td>2130</td>\n",
       "      <td>월요일</td>\n",
       "      <td>2011</td>\n",
       "      <td>01</td>\n",
       "      <td>11</td>\n",
       "      <td>0130</td>\n",
       "      <td>경상남도 산청군 생비량면 도리 산164</td>\n",
       "      <td>입산자실화</td>\n",
       "      <td>0.1</td>\n",
       "      <td>4740</td>\n",
       "      <td>35.327604</td>\n",
       "      <td>128.053755</td>\n",
       "    </tr>\n",
       "  </tbody>\n",
       "</table>\n",
       "</div>"
      ],
      "text/plain": [
       "   발생년도 발생월 발생일  발생시간 발생요일  종료년도 종료월 종료일  종료시간                     지번주소  \\\n",
       "0  2011  01  01  1340  토요일  2011  01  01  1630  경상남도 함안군 칠북면 봉촌리 산270-1   \n",
       "1  2011  01  01  1437  토요일  2011  01  01  1525   경상남도 거제시 일운면 소동리 산32-2   \n",
       "2  2011  01  01  1607  토요일  2011  01  01  1620   경상남도 거제시 일운면 소동리 산75-6   \n",
       "3  2011  01  08  1227  토요일  2011  01  08  1255     경상남도 산청군 단성면 입석리 산20   \n",
       "4  2011  01  10  2130  월요일  2011  01  11  0130    경상남도 산청군 생비량면 도리 산164   \n",
       "\n",
       "      사유  피해면적   피해금액         위도          경도  \n",
       "0  입산자실화     1  52000  35.366184  128.546722  \n",
       "1  입산자실화  0.05   4096  34.841262  128.701646  \n",
       "2  입산자실화  0.02   2291  34.833240  128.680596  \n",
       "3  쓰레기소각  0.01   3730  35.299827  127.912116  \n",
       "4  입산자실화   0.1   4740  35.327604  128.053755  "
      ]
     },
     "execution_count": 180,
     "metadata": {},
     "output_type": "execute_result"
    }
   ],
   "source": [
    "data_df.head()"
   ]
  },
  {
   "cell_type": "code",
   "execution_count": 181,
   "id": "56dc95e2-efda-497e-92f9-0cac290e75fa",
   "metadata": {},
   "outputs": [],
   "source": [
    "def trans_date(years, months, days, hours) :\n",
    "    date_list = []\n",
    "    for y, m, d, h in zip(years, months, days, hours) : \n",
    "        format = y + '-' + m + '-' + d + ' ' + h[:2] + ':' + h[2:]\n",
    "        date_list.append(pd.to_datetime(format))\n",
    "    return date_list"
   ]
  },
  {
   "cell_type": "code",
   "execution_count": 182,
   "id": "4177fcd2-d8c3-495e-847c-76512220fc5b",
   "metadata": {},
   "outputs": [],
   "source": [
    "data_df['발생시각'] = trans_date(data_df['발생년도'], data_df['발생월'],data_df['발생일'],data_df['발생시간'])"
   ]
  },
  {
   "cell_type": "code",
   "execution_count": 183,
   "id": "96ebdfdd-e3f0-421d-8823-7bf5a110bf1f",
   "metadata": {},
   "outputs": [
    {
     "ename": "DateParseError",
     "evalue": "day is out of range for month: 2014-02-00 46:00, at position 0",
     "output_type": "error",
     "traceback": [
      "\u001b[1;31m---------------------------------------------------------------------------\u001b[0m",
      "\u001b[1;31mValueError\u001b[0m                                Traceback (most recent call last)",
      "File \u001b[1;32mparsing.pyx:684\u001b[0m, in \u001b[0;36mpandas._libs.tslibs.parsing.dateutil_parse\u001b[1;34m()\u001b[0m\n",
      "\u001b[1;31mValueError\u001b[0m: day is out of range for month",
      "\nThe above exception was the direct cause of the following exception:\n",
      "\u001b[1;31mDateParseError\u001b[0m                            Traceback (most recent call last)",
      "Cell \u001b[1;32mIn[183], line 1\u001b[0m\n\u001b[1;32m----> 1\u001b[0m data_df[\u001b[38;5;124m'\u001b[39m\u001b[38;5;124m종료시각\u001b[39m\u001b[38;5;124m'\u001b[39m] \u001b[38;5;241m=\u001b[39m trans_date(data_df[\u001b[38;5;124m'\u001b[39m\u001b[38;5;124m종료년도\u001b[39m\u001b[38;5;124m'\u001b[39m], data_df[\u001b[38;5;124m'\u001b[39m\u001b[38;5;124m종료월\u001b[39m\u001b[38;5;124m'\u001b[39m],data_df[\u001b[38;5;124m'\u001b[39m\u001b[38;5;124m종료일\u001b[39m\u001b[38;5;124m'\u001b[39m],data_df[\u001b[38;5;124m'\u001b[39m\u001b[38;5;124m종료시간\u001b[39m\u001b[38;5;124m'\u001b[39m])\n",
      "Cell \u001b[1;32mIn[181], line 5\u001b[0m, in \u001b[0;36mtrans_date\u001b[1;34m(years, months, days, hours)\u001b[0m\n\u001b[0;32m      3\u001b[0m \u001b[38;5;28;01mfor\u001b[39;00m y, m, d, h \u001b[38;5;129;01min\u001b[39;00m \u001b[38;5;28mzip\u001b[39m(years, months, days, hours) : \n\u001b[0;32m      4\u001b[0m     \u001b[38;5;28mformat\u001b[39m \u001b[38;5;241m=\u001b[39m y \u001b[38;5;241m+\u001b[39m \u001b[38;5;124m'\u001b[39m\u001b[38;5;124m-\u001b[39m\u001b[38;5;124m'\u001b[39m \u001b[38;5;241m+\u001b[39m m \u001b[38;5;241m+\u001b[39m \u001b[38;5;124m'\u001b[39m\u001b[38;5;124m-\u001b[39m\u001b[38;5;124m'\u001b[39m \u001b[38;5;241m+\u001b[39m d \u001b[38;5;241m+\u001b[39m \u001b[38;5;124m'\u001b[39m\u001b[38;5;124m \u001b[39m\u001b[38;5;124m'\u001b[39m \u001b[38;5;241m+\u001b[39m h[:\u001b[38;5;241m2\u001b[39m] \u001b[38;5;241m+\u001b[39m \u001b[38;5;124m'\u001b[39m\u001b[38;5;124m:\u001b[39m\u001b[38;5;124m'\u001b[39m \u001b[38;5;241m+\u001b[39m h[\u001b[38;5;241m2\u001b[39m:]\n\u001b[1;32m----> 5\u001b[0m     date_list\u001b[38;5;241m.\u001b[39mappend(pd\u001b[38;5;241m.\u001b[39mto_datetime(\u001b[38;5;28mformat\u001b[39m))\n\u001b[0;32m      6\u001b[0m \u001b[38;5;28;01mreturn\u001b[39;00m date_list\n",
      "File \u001b[1;32mC:\\ProgramData\\anaconda3\\Lib\\site-packages\\pandas\\core\\tools\\datetimes.py:1101\u001b[0m, in \u001b[0;36mto_datetime\u001b[1;34m(arg, errors, dayfirst, yearfirst, utc, format, exact, unit, infer_datetime_format, origin, cache)\u001b[0m\n\u001b[0;32m   1099\u001b[0m         result \u001b[38;5;241m=\u001b[39m convert_listlike(argc, \u001b[38;5;28mformat\u001b[39m)\n\u001b[0;32m   1100\u001b[0m \u001b[38;5;28;01melse\u001b[39;00m:\n\u001b[1;32m-> 1101\u001b[0m     result \u001b[38;5;241m=\u001b[39m convert_listlike(np\u001b[38;5;241m.\u001b[39marray([arg]), \u001b[38;5;28mformat\u001b[39m)[\u001b[38;5;241m0\u001b[39m]\n\u001b[0;32m   1102\u001b[0m     \u001b[38;5;28;01mif\u001b[39;00m \u001b[38;5;28misinstance\u001b[39m(arg, \u001b[38;5;28mbool\u001b[39m) \u001b[38;5;129;01mand\u001b[39;00m \u001b[38;5;28misinstance\u001b[39m(result, np\u001b[38;5;241m.\u001b[39mbool_):\n\u001b[0;32m   1103\u001b[0m         result \u001b[38;5;241m=\u001b[39m \u001b[38;5;28mbool\u001b[39m(result)  \u001b[38;5;66;03m# TODO: avoid this kludge.\u001b[39;00m\n",
      "File \u001b[1;32mC:\\ProgramData\\anaconda3\\Lib\\site-packages\\pandas\\core\\tools\\datetimes.py:435\u001b[0m, in \u001b[0;36m_convert_listlike_datetimes\u001b[1;34m(arg, format, name, utc, unit, errors, dayfirst, yearfirst, exact)\u001b[0m\n\u001b[0;32m    432\u001b[0m \u001b[38;5;28;01mif\u001b[39;00m \u001b[38;5;28mformat\u001b[39m \u001b[38;5;129;01mis\u001b[39;00m \u001b[38;5;129;01mnot\u001b[39;00m \u001b[38;5;28;01mNone\u001b[39;00m \u001b[38;5;129;01mand\u001b[39;00m \u001b[38;5;28mformat\u001b[39m \u001b[38;5;241m!=\u001b[39m \u001b[38;5;124m\"\u001b[39m\u001b[38;5;124mmixed\u001b[39m\u001b[38;5;124m\"\u001b[39m:\n\u001b[0;32m    433\u001b[0m     \u001b[38;5;28;01mreturn\u001b[39;00m _array_strptime_with_fallback(arg, name, utc, \u001b[38;5;28mformat\u001b[39m, exact, errors)\n\u001b[1;32m--> 435\u001b[0m result, tz_parsed \u001b[38;5;241m=\u001b[39m objects_to_datetime64(\n\u001b[0;32m    436\u001b[0m     arg,\n\u001b[0;32m    437\u001b[0m     dayfirst\u001b[38;5;241m=\u001b[39mdayfirst,\n\u001b[0;32m    438\u001b[0m     yearfirst\u001b[38;5;241m=\u001b[39myearfirst,\n\u001b[0;32m    439\u001b[0m     utc\u001b[38;5;241m=\u001b[39mutc,\n\u001b[0;32m    440\u001b[0m     errors\u001b[38;5;241m=\u001b[39merrors,\n\u001b[0;32m    441\u001b[0m     allow_object\u001b[38;5;241m=\u001b[39m\u001b[38;5;28;01mTrue\u001b[39;00m,\n\u001b[0;32m    442\u001b[0m )\n\u001b[0;32m    444\u001b[0m \u001b[38;5;28;01mif\u001b[39;00m tz_parsed \u001b[38;5;129;01mis\u001b[39;00m \u001b[38;5;129;01mnot\u001b[39;00m \u001b[38;5;28;01mNone\u001b[39;00m:\n\u001b[0;32m    445\u001b[0m     \u001b[38;5;66;03m# We can take a shortcut since the datetime64 numpy array\u001b[39;00m\n\u001b[0;32m    446\u001b[0m     \u001b[38;5;66;03m# is in UTC\u001b[39;00m\n\u001b[0;32m    447\u001b[0m     out_unit \u001b[38;5;241m=\u001b[39m np\u001b[38;5;241m.\u001b[39mdatetime_data(result\u001b[38;5;241m.\u001b[39mdtype)[\u001b[38;5;241m0\u001b[39m]\n",
      "File \u001b[1;32mC:\\ProgramData\\anaconda3\\Lib\\site-packages\\pandas\\core\\arrays\\datetimes.py:2398\u001b[0m, in \u001b[0;36mobjects_to_datetime64\u001b[1;34m(data, dayfirst, yearfirst, utc, errors, allow_object, out_unit)\u001b[0m\n\u001b[0;32m   2395\u001b[0m \u001b[38;5;66;03m# if str-dtype, convert\u001b[39;00m\n\u001b[0;32m   2396\u001b[0m data \u001b[38;5;241m=\u001b[39m np\u001b[38;5;241m.\u001b[39masarray(data, dtype\u001b[38;5;241m=\u001b[39mnp\u001b[38;5;241m.\u001b[39mobject_)\n\u001b[1;32m-> 2398\u001b[0m result, tz_parsed \u001b[38;5;241m=\u001b[39m tslib\u001b[38;5;241m.\u001b[39marray_to_datetime(\n\u001b[0;32m   2399\u001b[0m     data,\n\u001b[0;32m   2400\u001b[0m     errors\u001b[38;5;241m=\u001b[39merrors,\n\u001b[0;32m   2401\u001b[0m     utc\u001b[38;5;241m=\u001b[39mutc,\n\u001b[0;32m   2402\u001b[0m     dayfirst\u001b[38;5;241m=\u001b[39mdayfirst,\n\u001b[0;32m   2403\u001b[0m     yearfirst\u001b[38;5;241m=\u001b[39myearfirst,\n\u001b[0;32m   2404\u001b[0m     creso\u001b[38;5;241m=\u001b[39mabbrev_to_npy_unit(out_unit),\n\u001b[0;32m   2405\u001b[0m )\n\u001b[0;32m   2407\u001b[0m \u001b[38;5;28;01mif\u001b[39;00m tz_parsed \u001b[38;5;129;01mis\u001b[39;00m \u001b[38;5;129;01mnot\u001b[39;00m \u001b[38;5;28;01mNone\u001b[39;00m:\n\u001b[0;32m   2408\u001b[0m     \u001b[38;5;66;03m# We can take a shortcut since the datetime64 numpy array\u001b[39;00m\n\u001b[0;32m   2409\u001b[0m     \u001b[38;5;66;03m#  is in UTC\u001b[39;00m\n\u001b[0;32m   2410\u001b[0m     \u001b[38;5;28;01mreturn\u001b[39;00m result, tz_parsed\n",
      "File \u001b[1;32mtslib.pyx:414\u001b[0m, in \u001b[0;36mpandas._libs.tslib.array_to_datetime\u001b[1;34m()\u001b[0m\n",
      "File \u001b[1;32mtslib.pyx:596\u001b[0m, in \u001b[0;36mpandas._libs.tslib.array_to_datetime\u001b[1;34m()\u001b[0m\n",
      "File \u001b[1;32mtslib.pyx:553\u001b[0m, in \u001b[0;36mpandas._libs.tslib.array_to_datetime\u001b[1;34m()\u001b[0m\n",
      "File \u001b[1;32mconversion.pyx:641\u001b[0m, in \u001b[0;36mpandas._libs.tslibs.conversion.convert_str_to_tsobject\u001b[1;34m()\u001b[0m\n",
      "File \u001b[1;32mparsing.pyx:336\u001b[0m, in \u001b[0;36mpandas._libs.tslibs.parsing.parse_datetime_string\u001b[1;34m()\u001b[0m\n",
      "File \u001b[1;32mparsing.pyx:688\u001b[0m, in \u001b[0;36mpandas._libs.tslibs.parsing.dateutil_parse\u001b[1;34m()\u001b[0m\n",
      "\u001b[1;31mDateParseError\u001b[0m: day is out of range for month: 2014-02-00 46:00, at position 0"
     ]
    }
   ],
   "source": [
    "# data_df['종료시각'] = trans_date(data_df['종료년도'], data_df['종료월'],data_df['종료일'],data_df['종료시간'])\n",
    "# DateParseError: day is out of range for month: 2014-02-00 46:00, at position 0 에러발생"
   ]
  },
  {
   "cell_type": "code",
   "execution_count": 185,
   "id": "193bff1e-5ec9-4cfd-a34d-2e850ac63c87",
   "metadata": {},
   "outputs": [
    {
     "data": {
      "text/plain": [
       "종료일\n",
       "09    261\n",
       "06    246\n",
       "23    242\n",
       "04    236\n",
       "02    231\n",
       "26    231\n",
       "05    227\n",
       "10    227\n",
       "28    226\n",
       "03    223\n",
       "27    221\n",
       "11    221\n",
       "24    219\n",
       "19    218\n",
       "22    217\n",
       "12    211\n",
       "16    209\n",
       "01    208\n",
       "25    205\n",
       "08    197\n",
       "21    194\n",
       "17    193\n",
       "15    191\n",
       "13    187\n",
       "07    182\n",
       "18    174\n",
       "29    170\n",
       "14    170\n",
       "30    168\n",
       "20    167\n",
       "31    123\n",
       "00      2\n",
       "Name: count, dtype: int64"
      ]
     },
     "execution_count": 185,
     "metadata": {},
     "output_type": "execute_result"
    }
   ],
   "source": [
    "data_df['종료일'].value_counts()"
   ]
  },
  {
   "cell_type": "code",
   "execution_count": 187,
   "id": "8b204b5f-12dd-4457-8ea6-a2e63a2607b1",
   "metadata": {},
   "outputs": [
    {
     "data": {
      "text/html": [
       "<div>\n",
       "<style scoped>\n",
       "    .dataframe tbody tr th:only-of-type {\n",
       "        vertical-align: middle;\n",
       "    }\n",
       "\n",
       "    .dataframe tbody tr th {\n",
       "        vertical-align: top;\n",
       "    }\n",
       "\n",
       "    .dataframe thead th {\n",
       "        text-align: right;\n",
       "    }\n",
       "</style>\n",
       "<table border=\"1\" class=\"dataframe\">\n",
       "  <thead>\n",
       "    <tr style=\"text-align: right;\">\n",
       "      <th></th>\n",
       "      <th>발생년도</th>\n",
       "      <th>발생월</th>\n",
       "      <th>발생일</th>\n",
       "      <th>발생시간</th>\n",
       "      <th>발생요일</th>\n",
       "      <th>종료년도</th>\n",
       "      <th>종료월</th>\n",
       "      <th>종료일</th>\n",
       "      <th>종료시간</th>\n",
       "      <th>지번주소</th>\n",
       "      <th>사유</th>\n",
       "      <th>피해면적</th>\n",
       "      <th>피해금액</th>\n",
       "      <th>위도</th>\n",
       "      <th>경도</th>\n",
       "      <th>발생시각</th>\n",
       "    </tr>\n",
       "  </thead>\n",
       "  <tbody>\n",
       "    <tr>\n",
       "      <th>768</th>\n",
       "      <td>2014</td>\n",
       "      <td>02</td>\n",
       "      <td>04</td>\n",
       "      <td>0243</td>\n",
       "      <td>화요일</td>\n",
       "      <td>2014</td>\n",
       "      <td>02</td>\n",
       "      <td>00</td>\n",
       "      <td>4600</td>\n",
       "      <td>울산광역시 울주군 언양읍 대곡리 861-4</td>\n",
       "      <td>조사중</td>\n",
       "      <td>0.7</td>\n",
       "      <td>13485</td>\n",
       "      <td>35.609134</td>\n",
       "      <td>129.176236</td>\n",
       "      <td>2014-02-04 02:43:00</td>\n",
       "    </tr>\n",
       "    <tr>\n",
       "      <th>1089</th>\n",
       "      <td>2014</td>\n",
       "      <td>05</td>\n",
       "      <td>06</td>\n",
       "      <td>2143</td>\n",
       "      <td>화요일</td>\n",
       "      <td>2014</td>\n",
       "      <td>05</td>\n",
       "      <td>00</td>\n",
       "      <td>7200</td>\n",
       "      <td>인천광역시 부평구 부개동 산7-1</td>\n",
       "      <td>입산자실화 추정</td>\n",
       "      <td>0.1</td>\n",
       "      <td>0</td>\n",
       "      <td>37.480407</td>\n",
       "      <td>126.730434</td>\n",
       "      <td>2014-05-06 21:43:00</td>\n",
       "    </tr>\n",
       "  </tbody>\n",
       "</table>\n",
       "</div>"
      ],
      "text/plain": [
       "      발생년도 발생월 발생일  발생시간 발생요일  종료년도 종료월 종료일  종료시간                     지번주소  \\\n",
       "768   2014  02  04  0243  화요일  2014  02  00  4600  울산광역시 울주군 언양읍 대곡리 861-4   \n",
       "1089  2014  05  06  2143  화요일  2014  05  00  7200       인천광역시 부평구 부개동 산7-1   \n",
       "\n",
       "            사유 피해면적   피해금액         위도          경도                발생시각  \n",
       "768        조사중  0.7  13485  35.609134  129.176236 2014-02-04 02:43:00  \n",
       "1089  입산자실화 추정  0.1      0  37.480407  126.730434 2014-05-06 21:43:00  "
      ]
     },
     "execution_count": 187,
     "metadata": {},
     "output_type": "execute_result"
    }
   ],
   "source": [
    "data_df[data_df['종료일']=='00']"
   ]
  },
  {
   "cell_type": "code",
   "execution_count": 191,
   "id": "1889d7f4-143b-4d65-ac48-cfe18bb43086",
   "metadata": {},
   "outputs": [
    {
     "data": {
      "text/html": [
       "<div>\n",
       "<style scoped>\n",
       "    .dataframe tbody tr th:only-of-type {\n",
       "        vertical-align: middle;\n",
       "    }\n",
       "\n",
       "    .dataframe tbody tr th {\n",
       "        vertical-align: top;\n",
       "    }\n",
       "\n",
       "    .dataframe thead th {\n",
       "        text-align: right;\n",
       "    }\n",
       "</style>\n",
       "<table border=\"1\" class=\"dataframe\">\n",
       "  <thead>\n",
       "    <tr style=\"text-align: right;\">\n",
       "      <th></th>\n",
       "      <th>발생년도</th>\n",
       "      <th>발생월</th>\n",
       "      <th>발생일</th>\n",
       "      <th>발생시간</th>\n",
       "      <th>발생요일</th>\n",
       "      <th>종료년도</th>\n",
       "      <th>종료월</th>\n",
       "      <th>종료일</th>\n",
       "      <th>종료시간</th>\n",
       "      <th>지번주소</th>\n",
       "      <th>사유</th>\n",
       "      <th>피해면적</th>\n",
       "      <th>피해금액</th>\n",
       "      <th>위도</th>\n",
       "      <th>경도</th>\n",
       "      <th>발생시각</th>\n",
       "    </tr>\n",
       "  </thead>\n",
       "  <tbody>\n",
       "    <tr>\n",
       "      <th>768</th>\n",
       "      <td>2014</td>\n",
       "      <td>02</td>\n",
       "      <td>04</td>\n",
       "      <td>0243</td>\n",
       "      <td>화요일</td>\n",
       "      <td>2014</td>\n",
       "      <td>02</td>\n",
       "      <td>00</td>\n",
       "      <td>4600</td>\n",
       "      <td>울산광역시 울주군 언양읍 대곡리 861-4</td>\n",
       "      <td>조사중</td>\n",
       "      <td>0.7</td>\n",
       "      <td>13485</td>\n",
       "      <td>35.609134</td>\n",
       "      <td>129.176236</td>\n",
       "      <td>2014-02-04 02:43:00</td>\n",
       "    </tr>\n",
       "    <tr>\n",
       "      <th>1089</th>\n",
       "      <td>2014</td>\n",
       "      <td>05</td>\n",
       "      <td>06</td>\n",
       "      <td>2143</td>\n",
       "      <td>화요일</td>\n",
       "      <td>2014</td>\n",
       "      <td>05</td>\n",
       "      <td>00</td>\n",
       "      <td>7200</td>\n",
       "      <td>인천광역시 부평구 부개동 산7-1</td>\n",
       "      <td>입산자실화 추정</td>\n",
       "      <td>0.1</td>\n",
       "      <td>0</td>\n",
       "      <td>37.480407</td>\n",
       "      <td>126.730434</td>\n",
       "      <td>2014-05-06 21:43:00</td>\n",
       "    </tr>\n",
       "  </tbody>\n",
       "</table>\n",
       "</div>"
      ],
      "text/plain": [
       "      발생년도 발생월 발생일  발생시간 발생요일  종료년도 종료월 종료일  종료시간                     지번주소  \\\n",
       "768   2014  02  04  0243  화요일  2014  02  00  4600  울산광역시 울주군 언양읍 대곡리 861-4   \n",
       "1089  2014  05  06  2143  화요일  2014  05  00  7200       인천광역시 부평구 부개동 산7-1   \n",
       "\n",
       "            사유 피해면적   피해금액         위도          경도                발생시각  \n",
       "768        조사중  0.7  13485  35.609134  129.176236 2014-02-04 02:43:00  \n",
       "1089  입산자실화 추정  0.1      0  37.480407  126.730434 2014-05-06 21:43:00  "
      ]
     },
     "execution_count": 191,
     "metadata": {},
     "output_type": "execute_result"
    }
   ],
   "source": [
    "data_df[data_df['종료시간'].astype('int')>=2400]"
   ]
  },
  {
   "cell_type": "code",
   "execution_count": 197,
   "id": "a1b9fbd7-c972-44ba-952a-c92260ca50f0",
   "metadata": {},
   "outputs": [],
   "source": [
    "# 이상치 data drop\n",
    "data_df = data_df.drop([768, 1089])\n",
    "data_df = data_df.reset_index(drop=True)"
   ]
  },
  {
   "cell_type": "code",
   "execution_count": 198,
   "id": "4989b106-95ee-4dfc-b67d-836daf8a680c",
   "metadata": {},
   "outputs": [],
   "source": [
    "data_df['종료시각'] = trans_date(data_df['종료년도'], data_df['종료월'],data_df['종료일'],data_df['종료시간'])"
   ]
  },
  {
   "cell_type": "code",
   "execution_count": 210,
   "id": "48b50047-53c6-42b4-ae1e-21f40d143670",
   "metadata": {},
   "outputs": [],
   "source": [
    "import math\n",
    "\n",
    "data_df['진화시간'] = data_df['종료시각']-data_df['발생시각']\n",
    "data_df['진화시간'] = data_df['진화시간'].apply(lambda x : math.ceil(x.total_seconds() / 3600))"
   ]
  },
  {
   "cell_type": "code",
   "execution_count": 211,
   "id": "b55ed37d-50ed-4b9f-83a6-ee1b30ff5297",
   "metadata": {},
   "outputs": [
    {
     "name": "stdout",
     "output_type": "stream",
     "text": [
      "<class 'pandas.core.frame.DataFrame'>\n",
      "RangeIndex: 6395 entries, 0 to 6394\n",
      "Data columns (total 18 columns):\n",
      " #   Column  Non-Null Count  Dtype         \n",
      "---  ------  --------------  -----         \n",
      " 0   발생년도    6395 non-null   object        \n",
      " 1   발생월     6395 non-null   object        \n",
      " 2   발생일     6395 non-null   object        \n",
      " 3   발생시간    6395 non-null   object        \n",
      " 4   발생요일    6395 non-null   object        \n",
      " 5   종료년도    6395 non-null   object        \n",
      " 6   종료월     6395 non-null   object        \n",
      " 7   종료일     6395 non-null   object        \n",
      " 8   종료시간    6395 non-null   object        \n",
      " 9   지번주소    6395 non-null   object        \n",
      " 10  사유      6395 non-null   object        \n",
      " 11  피해면적    6395 non-null   object        \n",
      " 12  피해금액    6395 non-null   object        \n",
      " 13  위도      6395 non-null   float64       \n",
      " 14  경도      6395 non-null   float64       \n",
      " 15  발생시각    6395 non-null   datetime64[ns]\n",
      " 16  종료시각    6395 non-null   datetime64[ns]\n",
      " 17  진화시간    6395 non-null   int64         \n",
      "dtypes: datetime64[ns](2), float64(2), int64(1), object(13)\n",
      "memory usage: 899.4+ KB\n"
     ]
    }
   ],
   "source": [
    "data_df.info()"
   ]
  },
  {
   "cell_type": "code",
   "execution_count": 213,
   "id": "5b81fab0-0c17-41a6-a641-ae94065473e0",
   "metadata": {},
   "outputs": [],
   "source": [
    "data_df = data_df.drop(columns=['발생년도', '발생월', '발생일', '발생시간', '발생요일',\\\n",
    "                                '종료년도', '종료월', '종료일', '종료시간', '종료시각'])"
   ]
  },
  {
   "cell_type": "code",
   "execution_count": 214,
   "id": "39b16b86-60cc-4341-a069-d43174d79747",
   "metadata": {},
   "outputs": [
    {
     "name": "stdout",
     "output_type": "stream",
     "text": [
      "<class 'pandas.core.frame.DataFrame'>\n",
      "RangeIndex: 6395 entries, 0 to 6394\n",
      "Data columns (total 8 columns):\n",
      " #   Column  Non-Null Count  Dtype         \n",
      "---  ------  --------------  -----         \n",
      " 0   지번주소    6395 non-null   object        \n",
      " 1   사유      6395 non-null   object        \n",
      " 2   피해면적    6395 non-null   object        \n",
      " 3   피해금액    6395 non-null   object        \n",
      " 4   위도      6395 non-null   float64       \n",
      " 5   경도      6395 non-null   float64       \n",
      " 6   발생시각    6395 non-null   datetime64[ns]\n",
      " 7   진화시간    6395 non-null   int64         \n",
      "dtypes: datetime64[ns](1), float64(2), int64(1), object(4)\n",
      "memory usage: 399.8+ KB\n"
     ]
    }
   ],
   "source": [
    "data_df.info()"
   ]
  },
  {
   "cell_type": "code",
   "execution_count": 218,
   "id": "ff540b05-0401-4133-b5b4-27d60166c38d",
   "metadata": {},
   "outputs": [],
   "source": [
    "data_df['피해면적'] = data_df['피해면적'].astype('float')"
   ]
  },
  {
   "cell_type": "code",
   "execution_count": 220,
   "id": "44b1da1c-ae6b-4fd8-a821-efb35173e787",
   "metadata": {},
   "outputs": [],
   "source": [
    "data_df['피해금액'] = data_df['피해금액'].astype('float')"
   ]
  },
  {
   "cell_type": "code",
   "execution_count": 228,
   "id": "35c1d082-b604-4724-bfbb-43d8352be739",
   "metadata": {},
   "outputs": [],
   "source": [
    "pd.set_option('display.max_rows', None)"
   ]
  },
  {
   "cell_type": "code",
   "execution_count": null,
   "id": "418d6332-187e-45b6-bdf2-fc563685805c",
   "metadata": {
    "scrolled": true
   },
   "outputs": [],
   "source": [
    "data_df['사유'].value_counts()"
   ]
  },
  {
   "cell_type": "code",
   "execution_count": 248,
   "id": "e161809a-4ef9-4158-aaae-217d44c01491",
   "metadata": {},
   "outputs": [],
   "source": [
    "data_df['사유'] = \\\n",
    "    data_df['사유'].apply(lambda x : '담뱃불 실화' if ( ('담배' in x) | ('담뱃' in x) ) )"
   ]
  },
  {
   "cell_type": "code",
   "execution_count": 249,
   "id": "9eebd7f9-a352-4403-acec-05a7c9956b71",
   "metadata": {},
   "outputs": [
    {
     "data": {
      "text/plain": [
       "사유\n",
       "담뱃불 실화    470\n",
       "Name: count, dtype: int64"
      ]
     },
     "execution_count": 249,
     "metadata": {},
     "output_type": "execute_result"
    }
   ],
   "source": [
    "# data_df[data_df['사유'].str.contains('담배|담뱃', regex=True]['사유'].value_counts()"
   ]
  },
  {
   "cell_type": "code",
   "execution_count": null,
   "id": "71c888dd-fc62-45fe-893e-dda972ad9054",
   "metadata": {},
   "outputs": [],
   "source": [
    "# data_df[data_df['사유'].str.contains('소각|폐기|두렁|쓰레기', regex=True)]['사유'].value_counts()"
   ]
  },
  {
   "cell_type": "code",
   "execution_count": 303,
   "id": "b086985c-9e6b-490a-ac03-06a8db6aaeb0",
   "metadata": {},
   "outputs": [],
   "source": [
    "data_df['사유'] = \\\n",
    "    data_df['사유'].apply(lambda x : '논밭/쓰레기 소각' if ( ('소각' in x) | ('폐기' in x) | ('두렁' in x) |\\\n",
    "                                                  ('쓰레기' in x) ) else x)"
   ]
  },
  {
   "cell_type": "code",
   "execution_count": null,
   "id": "86957485-a894-4162-beb8-355993f8c4ed",
   "metadata": {},
   "outputs": [],
   "source": [
    "# data_df[data_df['사유'].str.contains('화재|주택|건축|시설|공사')]['사유'].value_counts()"
   ]
  },
  {
   "cell_type": "code",
   "execution_count": 301,
   "id": "8f1d9d3f-e0a4-48d0-a1dd-1e9ea9048907",
   "metadata": {},
   "outputs": [],
   "source": [
    "data_df['사유'] = \\\n",
    "    data_df['사유'].apply(lambda x : '건축/시설물 화재' if ( ('화재' in x) | ('주택' in x) | ('건축' in x) |\\\n",
    "                                                ('시설' in x) | ('공사' in x)) )"
   ]
  },
  {
   "cell_type": "code",
   "execution_count": null,
   "id": "a71d8d0a-f6f1-49b8-ae1f-4ed1facee5ea",
   "metadata": {},
   "outputs": [],
   "source": [
    "# data_df[data_df['사유'].str.contains('재.*[투기|처리|취급]|불씨|화목|보일러|용접|연탄|아궁이|숯',\\\n",
    "# regex=True)]['사유'].value_counts()"
   ]
  },
  {
   "cell_type": "code",
   "execution_count": 308,
   "id": "33fc0b12-c971-487a-a367-743475decdf2",
   "metadata": {},
   "outputs": [],
   "source": [
    "data_df['사유'] = \\\n",
    "    data_df['사유'].apply(lambda x : '재/불씨/용접 등' \\\n",
    "                        if ( ('재' in x) & ( ('투기' in x) | ('처리' in x) | ('취급' in x) ) |\\\n",
    "                            ('불씨' in x) | ('화목' in x) | ('보일러' in x) | ('용접' in x) | \\\n",
    "                           ('연탄' in x) | ('아궁이' in x) | ('숯' in x)) else x)"
   ]
  },
  {
   "cell_type": "code",
   "execution_count": null,
   "id": "a7db4115-d190-4739-a4ce-fc964b5b70f6",
   "metadata": {},
   "outputs": [],
   "source": [
    "# data_df[data_df['사유'].str.contains('전기|전선|누전|스파크', regex=True)]['사유'].value_counts()"
   ]
  },
  {
   "cell_type": "code",
   "execution_count": 273,
   "id": "e7936d8e-5106-4337-9340-b4c1eb927cdf",
   "metadata": {},
   "outputs": [],
   "source": [
    "data_df['사유'] = \\\n",
    "    data_df['사유'].apply(lambda x : '누전/스파크' \\\n",
    "                        if ( ('전기' in x) | ('전선' in x) | ('누전' in x) | ('스파크' in x) ) else x)"
   ]
  },
  {
   "cell_type": "code",
   "execution_count": 282,
   "id": "6c8fb921-c165-4ff6-a670-fc799ab58d4b",
   "metadata": {},
   "outputs": [],
   "source": [
    "data_df['사유'] = data_df['사유'].apply(lambda x : '낙뢰' if ('낙뢰' in x) else x)"
   ]
  },
  {
   "cell_type": "code",
   "execution_count": 283,
   "id": "561faba4-ebe7-4e85-8b22-91516b956e24",
   "metadata": {},
   "outputs": [],
   "source": [
    "data_df['사유'] = data_df['사유'].apply(lambda x : '불장난' if ('장난' in x) else x)"
   ]
  },
  {
   "cell_type": "code",
   "execution_count": 289,
   "id": "ac258491-ad39-4be6-86aa-aac0cbed1eb5",
   "metadata": {},
   "outputs": [],
   "source": [
    "data_df['사유'] = data_df['사유'].apply(lambda x : '방화' if ('방화' in x) else x)"
   ]
  },
  {
   "cell_type": "code",
   "execution_count": 294,
   "id": "8ff75996-4144-4dc0-ae34-9f2d8448c73a",
   "metadata": {},
   "outputs": [],
   "source": [
    "data_df['사유'] = data_df['사유'].apply(lambda x : '원인미상' if ( ('미상' in x) | ('조사' in x) ) else x)"
   ]
  },
  {
   "cell_type": "code",
   "execution_count": null,
   "id": "da1b9a33-4d35-43ea-a11a-f50ee869aff5",
   "metadata": {},
   "outputs": [],
   "source": [
    "# data_df[data_df['사유'].str.contains('입산|등산|성묘|무속|채취|낚시|취사', regex=True)]['사유'].value_counts()"
   ]
  },
  {
   "cell_type": "code",
   "execution_count": 290,
   "id": "fa1bd770-5bdf-4468-9f44-aced74e0f0a7",
   "metadata": {},
   "outputs": [],
   "source": [
    "data_df['사유'] = \\\n",
    "    data_df['사유'].apply(lambda x : '입산자 기타 실화' \\\n",
    "                        if ( ('입산' in x) | ('등산' in x) | ('성묘' in x) | ('취사' in x) |\\\n",
    "                           ('무속' in x) | ('채취' in x) | ('낚시' in x)) else x)"
   ]
  },
  {
   "cell_type": "code",
   "execution_count": 291,
   "id": "f874f276-debd-43e9-84e0-b8ba9b548c2a",
   "metadata": {},
   "outputs": [
    {
     "data": {
      "text/plain": [
       "사유\n",
       "원인미상           612\n",
       "조사중             92\n",
       "미상              31\n",
       "원인미상(조사중)       13\n",
       "원인미상(입)          1\n",
       "원인미상의 들불         1\n",
       "신원미상             1\n",
       "조명탄 발화(조사중)      1\n",
       "Name: count, dtype: int64"
      ]
     },
     "execution_count": 291,
     "metadata": {},
     "output_type": "execute_result"
    }
   ],
   "source": [
    "data_df[data_df['사유'].str.contains('미상|조사', regex=True)]['사유'].value_counts()"
   ]
  },
  {
   "cell_type": "code",
   "execution_count": null,
   "id": "7828ee45-3b97-4079-bb63-40aa6910d3de",
   "metadata": {},
   "outputs": [],
   "source": [
    "# data_df[data_df['사유'].str.contains('산업|사업|작업', regex=True)]['사유'].value_counts()"
   ]
  },
  {
   "cell_type": "code",
   "execution_count": 311,
   "id": "2152c797-d428-46a5-a831-38f0519c67f2",
   "metadata": {},
   "outputs": [],
   "source": [
    "data_df['사유'] = data_df['사유'].apply(lambda x : '작업/산업현장' \\\n",
    "                                    if ( ('산업' in x) | ('사업' in x) | ('작업' in x) ) else x)"
   ]
  },
  {
   "cell_type": "code",
   "execution_count": 312,
   "id": "603768b7-2057-4fa2-80f7-5d6c78c7f48c",
   "metadata": {},
   "outputs": [
    {
     "data": {
      "text/plain": [
       "사유\n",
       "입산자 기타 실화             2213\n",
       "논밭/쓰레기 소각             1689\n",
       "원인미상                   752\n",
       "담뱃불 실화                 470\n",
       "건축/시설물 화재              383\n",
       "재/불씨/용접 등              307\n",
       "기타(직접입력)               113\n",
       "작업/산업현장                 92\n",
       "누전/스파크                  88\n",
       "방화                      76\n",
       "낙뢰                      49\n",
       "불장난                     26\n",
       "풍등                       3\n",
       "화기물 취급 부주의               2\n",
       "기계톱과열                    2\n",
       "분신자살 추정                  2\n",
       "담대꽁초투기                   1\n",
       "전신주도복에의한발화(추정)           1\n",
       "군사훈현                     1\n",
       "군사훈련전이                   1\n",
       "군부대실화추정                  1\n",
       "야영장모닥불                   1\n",
       "변압기추락                    1\n",
       "양수기과열                    1\n",
       "군 발물처리                   1\n",
       "노후화된불발탄                  1\n",
       "밧데리폭발                    1\n",
       "철제 고물 절단 중 불꽃비화          1\n",
       "온수공급호스연결부주의              1\n",
       "건출물실화(가구공장 전소)           1\n",
       "농기계 수리중 폭발               1\n",
       "군부대 조명탄(신호킷 추정)          1\n",
       "캠핑객 실화                   1\n",
       "굴삭기과열추정                  1\n",
       "산나물 채쥐자 실화추정             1\n",
       "산소 벌집제거 중 발화             1\n",
       "예초기 조작 과실                1\n",
       "묘지조성중 실화                 1\n",
       "묘지주변 정리 중 발화             1\n",
       "인근축사 발화 추정               1\n",
       "묘지사초                     1\n",
       "농막에서 발화 추정               1\n",
       "난로재 실화                   1\n",
       "향불발화                     1\n",
       "산불비화추정                   1\n",
       "열선축열 추정                  1\n",
       "드론추락의베터리폭발               1\n",
       "합선                       1\n",
       "불발탄발화추정                  1\n",
       "배터리발화                    1\n",
       "발화탄발화추정                  1\n",
       "예초기배터리폭발                 1\n",
       "화기물취급부주의                 1\n",
       "채석장장비과열                  1\n",
       "태양광패널합선                  1\n",
       "건설현장실화추정                 1\n",
       "양봉장벌통소독중발화               1\n",
       "조명지뢰불발                   1\n",
       "캠핑장부탄가스폭발                1\n",
       "화기물취급부주의추정               1\n",
       "입사자실화추정                  1\n",
       "군비행기추착비화                 1\n",
       "자연발화                     1\n",
       "도로변발화추정                  1\n",
       "조류퇴치폭음탄                  1\n",
       "모닥불비화                    1\n",
       "화기사용주부의                  1\n",
       "에초기불꽃                    1\n",
       "전봇대발화                    1\n",
       "연등(촛불)비화                 1\n",
       "전주계량기                    1\n",
       "푹죽실화                     1\n",
       "전신주고압선피복손상불티             1\n",
       "전투기추락                    1\n",
       "수목정비인부실화                 1\n",
       "군사격장 훈련에 따른 피탄           1\n",
       "작엄장실화                    1\n",
       "새 ?기위해 터트린 폭죽            1\n",
       "절에서 향 피우다 실화             1\n",
       "군부대훈련(조명탄에 의한 발화)        1\n",
       "모닥불 실화                   1\n",
       "약초꾼실화                    1\n",
       "묘지향불실화                   1\n",
       "군부대 진지보수                 1\n",
       "재로인한 발화                  1\n",
       "재발화(3.20.,산불발생지內)        1\n",
       "모닥불실화                    1\n",
       "정신지체자실화                  1\n",
       "캠핑장이용객 실화                1\n",
       "자살                       1\n",
       "묘지발화추정                   1\n",
       "군부대 실화추정(신호탄 발화)         1\n",
       "재발화(3.8., 산불발생지內)        1\n",
       "화기취급 부주의                 1\n",
       "재발화(1.18., 산불발생지內)       1\n",
       "재발화 산불                   1\n",
       "예초기 과열 폭발                1\n",
       "훈련중 부상자 구조신호             1\n",
       "야간구조 조명불발탄(세월호)          1\n",
       "비닐하우스 가스폭발               1\n",
       "축사내 화기취급 부주의             1\n",
       "묘지 벌초 중 실화               1\n",
       "풍등에 의한 실화                1\n",
       "노숙자실화 추정                 1\n",
       "벌꿀소독                     1\n",
       "등삭객실화                    1\n",
       "굿당의 인등 낙하                1\n",
       "군조명탄에의한실화                1\n",
       "나무꾼실화                    1\n",
       "모닥불부주의                   1\n",
       "캠핑장이용객 실화추정              1\n",
       "UDT훈련 중 교탄 사용            1\n",
       "불발조명탄 자연발화 추정            1\n",
       "조리 후 남은 재로 인한 실화         1\n",
       "조림지내 벌집제거 중 실화           1\n",
       "고추씨 발효로 자연발화 추정          1\n",
       "예초기 과열추정                 1\n",
       "석굴 거주지 실화추정              1\n",
       "묘지정비 중 실화추정              1\n",
       "축사 내 화기취급 실화             1\n",
       "택시 엔진과열로 발화              1\n",
       "농지에 불놓기 중 비화             1\n",
       "화기취급 실화                  1\n",
       "기타                       1\n",
       "개사육장 화기취급 실화             1\n",
       "수도관 동파방지 불취급 진화          1\n",
       "석재공장 급수용 펌프모터 과열         1\n",
       "폭죽낙하(소백산철쭉제)             1\n",
       "양봉 훈연 중 실화               1\n",
       "화덕재 비화                   1\n",
       "인화물질 취급 부주의              1\n",
       "농경지 태우기                  1\n",
       "승용예취기 과열로 인한 발화          1\n",
       "벌통훈연기 취급 부주의             1\n",
       "3.7발생 산불의 재불             1\n",
       "차량과열로 연소에 의한 산불발생        1\n",
       "인화물질 관리소홀로 인한 실화         1\n",
       "예초기 과열로 인한 실화            1\n",
       "군사훈련(신호탄)                1\n",
       "공장 발화 추정                 1\n",
       "전투기(F-16)추락              1\n",
       "선택                       1\n",
       "화기물 취급 부주의(부탄가스)         1\n",
       "매립장 열선 과열                1\n",
       "Name: count, dtype: int64"
      ]
     },
     "execution_count": 312,
     "metadata": {},
     "output_type": "execute_result"
    }
   ],
   "source": [
    "data_df['사유'].value_counts()"
   ]
  },
  {
   "cell_type": "code",
   "execution_count": 313,
   "id": "59ca0625-e902-45cb-87f1-458584108ee7",
   "metadata": {},
   "outputs": [],
   "source": [
    "r_list = ['입산자 기타 실화', '논밭/쓰레기 소각', '원인미상', '담뱃불 실화', '건축/시설물 화재',\\\n",
    "          '재/불씨/용접 등', '작업/산업현장', '누전/스파크', '방화', '낙뢰', '불장난']"
   ]
  },
  {
   "cell_type": "code",
   "execution_count": 314,
   "id": "19707db9-7593-447d-a278-a6bb6da53e72",
   "metadata": {},
   "outputs": [],
   "source": [
    "data_df['사유'] = data_df['사유'].apply(lambda x : '기타' if (x not in r_list) else x)"
   ]
  },
  {
   "cell_type": "code",
   "execution_count": 315,
   "id": "21531aa5-126c-4dc9-8e8d-965ae5b319a6",
   "metadata": {},
   "outputs": [
    {
     "data": {
      "text/plain": [
       "사유\n",
       "입산자 기타 실화    2213\n",
       "논밭/쓰레기 소각    1689\n",
       "원인미상          752\n",
       "담뱃불 실화        470\n",
       "건축/시설물 화재     383\n",
       "재/불씨/용접 등     307\n",
       "기타            250\n",
       "작업/산업현장        92\n",
       "누전/스파크         88\n",
       "방화             76\n",
       "낙뢰             49\n",
       "불장난            26\n",
       "Name: count, dtype: int64"
      ]
     },
     "execution_count": 315,
     "metadata": {},
     "output_type": "execute_result"
    }
   ],
   "source": [
    "data_df['사유'].value_counts()"
   ]
  },
  {
   "cell_type": "code",
   "execution_count": 317,
   "id": "a22e0463-8627-43e1-8e6d-1b1d661e90c3",
   "metadata": {},
   "outputs": [
    {
     "name": "stdout",
     "output_type": "stream",
     "text": [
      "<class 'pandas.core.frame.DataFrame'>\n",
      "RangeIndex: 6395 entries, 0 to 6394\n",
      "Data columns (total 8 columns):\n",
      " #   Column  Non-Null Count  Dtype         \n",
      "---  ------  --------------  -----         \n",
      " 0   지번주소    6395 non-null   object        \n",
      " 1   사유      6395 non-null   object        \n",
      " 2   피해면적    6395 non-null   float64       \n",
      " 3   피해금액    6395 non-null   float64       \n",
      " 4   위도      6395 non-null   float64       \n",
      " 5   경도      6395 non-null   float64       \n",
      " 6   발생시각    6395 non-null   datetime64[ns]\n",
      " 7   진화시간    6395 non-null   int64         \n",
      "dtypes: datetime64[ns](1), float64(4), int64(1), object(2)\n",
      "memory usage: 399.8+ KB\n"
     ]
    }
   ],
   "source": [
    "data_df.info()"
   ]
  },
  {
   "cell_type": "code",
   "execution_count": 316,
   "id": "4673ed40-aa8c-4c49-aacf-4da5f2ebea7f",
   "metadata": {},
   "outputs": [],
   "source": [
    "data_df.to_csv('산불발생위치.csv', index=False, encoding='cp949')"
   ]
  },
  {
   "cell_type": "code",
   "execution_count": null,
   "id": "38588dc9-b1e0-4c17-b3bd-e2b658dba8d1",
   "metadata": {},
   "outputs": [],
   "source": []
  }
 ],
 "metadata": {
  "kernelspec": {
   "display_name": "Python 3 (ipykernel)",
   "language": "python",
   "name": "python3"
  },
  "language_info": {
   "codemirror_mode": {
    "name": "ipython",
    "version": 3
   },
   "file_extension": ".py",
   "mimetype": "text/x-python",
   "name": "python",
   "nbconvert_exporter": "python",
   "pygments_lexer": "ipython3",
   "version": "3.12.3"
  }
 },
 "nbformat": 4,
 "nbformat_minor": 5
}
